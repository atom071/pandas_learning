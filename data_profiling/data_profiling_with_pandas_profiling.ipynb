{
 "cells": [
  {
   "cell_type": "markdown",
   "id": "f29b17a9",
   "metadata": {},
   "source": [
    "!pip install ydata-profiling"
   ]
  },
  {
   "cell_type": "code",
   "execution_count": 1,
   "id": "7058b8b8",
   "metadata": {},
   "outputs": [],
   "source": [
    "import pandas as pd\n",
    "from ydata_profiling import ProfileReport"
   ]
  },
  {
   "cell_type": "markdown",
   "id": "5660a4f2",
   "metadata": {},
   "source": [
    "Reading Data from CSV"
   ]
  },
  {
   "cell_type": "code",
   "execution_count": 2,
   "id": "66eeb64b",
   "metadata": {},
   "outputs": [],
   "source": [
    "df = pd.read_csv(\"world_population.csv\")"
   ]
  },
  {
   "cell_type": "markdown",
   "id": "0adbcbf8",
   "metadata": {},
   "source": [
    "Generating Report"
   ]
  },
  {
   "cell_type": "code",
   "execution_count": 3,
   "id": "89fdd8f3",
   "metadata": {},
   "outputs": [],
   "source": [
    "report  = ProfileReport(df)"
   ]
  },
  {
   "cell_type": "code",
   "execution_count": 4,
   "id": "e968e5ba",
   "metadata": {},
   "outputs": [
    {
     "data": {
      "application/vnd.jupyter.widget-view+json": {
       "model_id": "1f4fd690e333475fab074ace40a97fd4",
       "version_major": 2,
       "version_minor": 0
      },
      "text/plain": [
       "Summarize dataset:   0%|          | 0/5 [00:00<?, ?it/s]"
      ]
     },
     "metadata": {},
     "output_type": "display_data"
    },
    {
     "data": {
      "application/vnd.jupyter.widget-view+json": {
       "model_id": "8d22ecc746e646fcb99ec190bca028a7",
       "version_major": 2,
       "version_minor": 0
      },
      "text/plain": [
       "Generate report structure:   0%|          | 0/1 [00:00<?, ?it/s]"
      ]
     },
     "metadata": {},
     "output_type": "display_data"
    },
    {
     "data": {
      "application/vnd.jupyter.widget-view+json": {
       "model_id": "3a0e726f0cb74d7d8a9c9430cd49380d",
       "version_major": 2,
       "version_minor": 0
      },
      "text/plain": [
       "Render HTML:   0%|          | 0/1 [00:00<?, ?it/s]"
      ]
     },
     "metadata": {},
     "output_type": "display_data"
    }
   ],
   "source": [
    "report"
   ]
  },
  {
   "cell_type": "code",
   "execution_count": null,
   "id": "3dcb2217",
   "metadata": {},
   "outputs": [],
   "source": [
    "Saving into Html file"
   ]
  },
  {
   "cell_type": "code",
   "execution_count": 5,
   "id": "c671b8aa",
   "metadata": {},
   "outputs": [
    {
     "data": {
      "application/vnd.jupyter.widget-view+json": {
       "model_id": "989f7ba087074c1f815605790a250e06",
       "version_major": 2,
       "version_minor": 0
      },
      "text/plain": [
       "Export report to file:   0%|          | 0/1 [00:00<?, ?it/s]"
      ]
     },
     "metadata": {},
     "output_type": "display_data"
    }
   ],
   "source": [
    "report.to_file(\"world_population.html\")"
   ]
  },
  {
   "cell_type": "markdown",
   "id": "e3c0ca2c",
   "metadata": {},
   "source": [
    "Can Download Html File Generated from https://drive.google.com/file/d/1ZYBTvXcfJ45PlyXfsbYGAsiTOGYhQBcr/view?usp=sharing"
   ]
  },
  {
   "cell_type": "code",
   "execution_count": null,
   "id": "5502f03e",
   "metadata": {},
   "outputs": [],
   "source": []
  }
 ],
 "metadata": {
  "kernelspec": {
   "display_name": "Python 3 (ipykernel)",
   "language": "python",
   "name": "python3"
  },
  "language_info": {
   "codemirror_mode": {
    "name": "ipython",
    "version": 3
   },
   "file_extension": ".py",
   "mimetype": "text/x-python",
   "name": "python",
   "nbconvert_exporter": "python",
   "pygments_lexer": "ipython3",
   "version": "3.10.6"
  }
 },
 "nbformat": 4,
 "nbformat_minor": 5
}
